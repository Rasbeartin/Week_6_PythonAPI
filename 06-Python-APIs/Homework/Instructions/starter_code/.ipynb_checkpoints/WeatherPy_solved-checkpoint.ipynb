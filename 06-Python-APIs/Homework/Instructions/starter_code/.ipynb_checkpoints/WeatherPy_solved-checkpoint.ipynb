{
 "cells": [
  {
   "cell_type": "markdown",
   "metadata": {},
   "source": [
    "# WeatherPy\n",
    "----\n",
    "\n",
    "### Analysis\n",
    "* As expected, the weather becomes significantly warmer as one approaches the equator (0 Deg. Latitude). More interestingly, however, is the fact that the southern hemisphere tends to be warmer this time of year than the northern hemisphere. This may be due to the tilt of the earth.\n",
    "* There is no strong relationship between latitude and cloudiness. However, it is interesting to see that a strong band of cities sits at 0, 80, and 100% cloudiness.\n",
    "* There is no strong relationship between latitude and wind speed. However, in northern hemispheres there is a flurry of cities with over 20 mph of wind.\n",
    "\n",
    "---\n",
    "\n",
    "#### Note\n",
    "* Instructions have been included for each segment. You do not have to follow them exactly, but they are included to help you think through the steps."
   ]
  },
  {
   "cell_type": "code",
   "execution_count": 1,
   "metadata": {
    "scrolled": true
   },
   "outputs": [],
   "source": [
    "# Dependencies and Setup\n",
    "import matplotlib.pyplot as plt\n",
    "import pandas as pd\n",
    "import numpy as np\n",
    "import requests\n",
    "import time\n",
    "import openweathermapy.core as owm\n",
    "import json\n",
    "import datetime\n",
    "from api_keys import api_key\n",
    "\n",
    "# Incorporated citipy to determine city based on latitude and longitude.\n",
    "from citipy import citipy\n",
    "\n",
    "# Output File (CSV).\n",
    "output_data_file = \"output_data/cities.csv\"\n",
    "\n",
    "# Range of latitudes and longitudes.\n",
    "lat_range = (-90, 90)\n",
    "lng_range = (-180, 180)\n",
    "\n",
    "# Define URL of API, measurable units, and assign url to query variable. \n",
    "url = \"http://api.openweathermap.org/data/2.5/weather?\"\n",
    "\n",
    "units = \"metric\"\n",
    "\n",
    "query_url = f\"{url}appid={api_key}&units={units}&q=\""
   ]
  },
  {
   "cell_type": "markdown",
   "metadata": {},
   "source": [
    "## Generate Cities List"
   ]
  },
  {
   "cell_type": "code",
   "execution_count": 2,
   "metadata": {},
   "outputs": [
    {
     "name": "stdout",
     "output_type": "stream",
     "text": [
      "There are 596 cities in this list\n",
      "['kandrian', 'rikitea', 'french harbor', 'albany', 'barentsburg', 'ushuaia', 'japura', 'mpika', 'santiago de cao', 'port blair', 'havre de grace', 'ponta do sol', 'carnarvon', 'victoria', 'saint-philippe', 'bilibino', 'quang ngai', 'georgetown', 'alta floresta', 'samarai', 'korla', 'hoi an', 'mount isa', 'soanierana ivongo', 'esperance', 'cape town', 'yirol', 'hermanus', 'thompson', 'port lincoln', 'husavik', 'bethel', 'vila velha', 'mogok', 'punta arenas', 'taolanaro', 'tiarei', 'saskylakh', 'avarua', 'mahebourg', 'tecoanapa', 'lukovetskiy', 'vaini', 'pevek', 'jamestown', 'morgan city', 'kieta', 'sibolga', 'poum', 'catuday', 'mbarara', 'aykhal', 'bambous virieux', 'hilo', 'bluff', 'sentyabrskiy', 'mataura', 'severo-kurilsk', 'tiksi', 'cabo san lucas', 'butaritari', 'chuy', 'mar del plata', 'palabuhanratu', 'kapaa', 'maarianhamina', 'narsaq', 'yuyao', 'fortuna', 'erdenet', 'batagay', 'uwayl', 'hovd', 'hobart', 'yellowknife', 'waw', 'tasiilaq', 'sitka', 'erzin', 'qaanaaq', 'atuona', 'lavrentiya', 'lebu', 'almaznyy', 'key west', 'pamanukan', 'kaeo', 'komsomolskiy', 'busselton', 'barra patuca', 'bukama', 'tokur', 'te anau', 'guiratinga', 'sistranda', 'longyearbyen', 'nizhneyansk', 'namatanai', 'kariba', 'bubaque', 'robe', 'vredendal', 'high level', 'half moon bay', 'bredasdorp', 'port elizabeth', 'qaqortoq', 'east london', 'kahului', 'eyrarbakki', 'krasnoselkup', 'sainte-anne-des-monts', 'college', 'salalah', 'maraa', 'yar-sale', 'fereydun kenar', 'arraial do cabo', 'bitung', 'preobrazheniye', 'puerto ayora', 'new norfolk', 'nemuro', 'kavaratti', 'mount gambier', 'taoudenni', 'nouadhibou', 'upernavik', 'illoqqortoormiut', 'san patricio', 'ballina', 'lingdong', 'chokurdakh', 'pacific grove', 'faanui', 'bundaberg', 'luganville', 'acapulco', 'lazaro cardenas', 'hasaki', 'port hardy', 'santa luzia', 'castro', 'verkhnevilyuysk', 'la union', 'kodiak', 'port alfred', 'iqaluit', 'ulladulla', 'saint-augustin', 'karakol', 'maceio', 'venice', 'adeje', 'umzimvubu', 'cayenne', 'tuktoyaktuk', 'niquero', 'horsham', 'barrow', 'kavieng', 'labutta', 'saldanha', 'karasjok', 'belushya guba', 'naze', 'nikolskoye', 'yaan', 'talnakh', 'grand river south east', 'zyryanka', 'saint george', 'paamiut', 'torbay', 'yuli', 'vilhena', 'hobyo', 'southbridge', 'buchanan', 'hamilton', 'merke', 'nome', 'cidreira', 'khatanga', 'mys shmidta', 'ambulu', 'touros', 'rincon', 'kokologo', 'zhanatas', 'paracuru', 'awbari', 'tupik', 'yagoua', 'boende', 'kruisfontein', 'fort morgan', 'axim', 'terney', 'belaya gora', 'inuvik', 'kapoeta', 'nanortalik', 'padang', 'airai', 'kamenka', 'kuroiso', 'ribeira grande', 'kalemie', 'inverell', 'barras', 'vaitupu', 'ancud', 'ambilobe', 'lebyazhye', 'dubbo', 'labuhan', 'gushikawa', 'canaries', 'jizan', 'malanville', 'koumac', 'galle', 'guerrero negro', 'juba', 'kyren', 'wainwright', 'kysyl-syr', 'norman wells', 'mulhouse', 'alyangula', 'plettenberg bay', 'maghama', 'sao joao da barra', 'vardo', 'frankfurt', 'lompoc', 'coquimbo', 'ilulissat', 'muros', 'teguldet', 'luderitz', 'mezen', 'ketchikan', 'saleaula', 'clyde river', 'tual', 'dabakala', 'peniche', 'broome', 'tumannyy', 'altar', 'sokoni', 'impfondo', 'quatre cocos', 'road town', 'bulgan', 'souillac', 'sao jose da coroa grande', 'dano', 'dikson', 'damavand', 'tagusao', 'hualmay', 'anadyr', 'cuddapah', 'baruun-urt', 'wenzhou', 'keetmanshoop', 'tsabong', 'adrar', 'port-gentil', 'araouane', 'mehamn', 'mirnyy', 'soyo', 'virginia beach', 'chapais', 'den helder', 'deputatskiy', 'mandurah', 'meulaboh', 'lagoa', 'shelburne', 'podyuga', 'enshi', 'alofi', 'kitimat', 'constitucion', 'latung', 'tsihombe', 'taburi', 'marrakesh', 'saquena', 'kovur', 'lakes entrance', 'igdir', 'geraldton', 'mikhaylovka', 'kushima', 'gamba', 'biak', 'ostrovnoy', 'corn island', 'port hedland', 'lorengau', 'zhigansk', 'yinchuan', 'lasa', 'xining', 'rio grande', 'ardesen', 'suzaka', 'cherskiy', 'hithadhoo', 'saint-joseph', 'arcata', 'tuatapere', 'hiliseu-horia', 'balakovo', 'codrington', 'sehithwa', 'kaitangata', 'havre-saint-pierre', 'trenggalek', 'polewali', 'hofn', 'lardos', 'trinidad', 'rotifunk', 'sangar', 'tura', 'hinton', 'iralaya', 'puerto madryn', 'coahuayana', 'berlevag', 'fort nelson', 'muli', 'caraz', 'tsumeb', 'toliary', 'goma', 'maniwaki', 'litovko', 'babu', 'kirakira', 'nizwa', 'shache', 'northam', 'kamenskoye', 'hohhot', 'weligama', 'eyl', 'coihaique', 'harper', 'saint-hubert', 'dingle', 'beloha', 'tilichiki', 'vila franca do campo', 'wanaka', 'katsuura', 'rungata', 'mulege', 'yerofey pavlovich', 'the valley', 'goderich', 'brae', 'tiznit', 'ozgon', 'san juan', 'manggar', 'tongliao', 'ngunguru', 'salinopolis', 'necochea', 'acajutla', 'alotau', 'norwich', 'mahibadhoo', 'sawakin', 'alenquer', 'sadiqabad', 'bathsheba', 'caravelas', 'matara', 'san jeronimo', 'pizarro', 'kirovsk', 'takapau', 'puri', 'praia da vitoria', 'mandera', 'umm ruwabah', 'seybaplaya', 'larreynaga', 'iranshahr', 'barahona', 'atambua', 'vedaranniyam', 'balila', 'sinnamary', 'klaksvik', 'grants', 'papara', 'toora-khem', 'eureka', 'salvacion', 'djambala', 'ndele', 'flinders', 'attawapiskat', 'jumla', 'cap-aux-meules', 'hun', 'namibe', 'aksaray', 'babanusah', 'arman', 'lata', 'pisco', 'olafsvik', 'provideniya', 'nenjiang', 'waipawa', 'sinkat', 'belgrade', 'one hundred mile house', 'caledonia', 'kaka', 'ozorkow', 'skalistyy', 'surt', 'sann', 'la ronge', 'scandiano', 'shingu', 'port macquarie', 'jalu', 'grand gaube', 'comodoro rivadavia', 'mizan teferi', 'atar', 'atka', 'hargeysa', 'mareeba', 'nioro', 'pangnirtung', 'smolenka', 'arkhangelsk', 'uyuni', 'ocos', 'asheville', 'zaykovo', 'srednekolymsk', 'goulburn', 'miri', 'vanimo', 'nsanje', 'raga', 'beringovskiy', 'vokhma', 'nivala', 'richards bay', 'samusu', 'los llanos de aridane', 'cape coast', 'grindavik', 'tigre', 'baiyin', 'avera', 'eskil', 'mayo', 'letnyaya stavka', 'maskinonge', 'la paz', 'kikwit', 'nizhniy kuranakh', 'itoman', 'andra', 'nyurba', 'lolua', 'ust-kamchatsk', 'port augusta', 'forssa', 'sept-iles', 'ayan', 'kazalinsk', 'dinsor', 'mezhdurechensk', 'iracoubo', 'lhokseumawe', 'fairbanks', 'brownfield', 'kendari', 'zhigalovo', 'ploemeur', 'hurghada', 'hami', 'bandarbeyla', 'belen', 'umkomaas', 'karachi', 'somme-leuze', 'obigarm', 'doha', 'kudinovo', 'butembo', 'rio gallegos', 'yumen', 'porto novo', 'bonthe', 'kushiro', 'burica', 'prainha', 'shimanovsk', 'menongue', 'manzhouli', 'ahipara', 'kuryk', 'curuguaty', 'sangod', 'aklavik', 'quesnel', 'oakdale', 'vestmannaeyjar', 'sainte-rose', 'bengkulu', 'brus', 'libourne', 'olinda', 'fulitun', 'pokhara', 'batagay-alyta', 'sabanagrande', 'zapolyarnyy', 'homestead', 'teufen', 'san lazaro', 'asyut', 'nelson bay', 'mehran', 'bolungarvik', 'loandjili', 'kantang', 'amderma', 'gelendzhik', 'huaral', 'mackay', 'agadez', 'warqla', 'auki', 'mecca', 'bargal', 'mekhe', 'bereda', 'kokoda', 'tezu', 'aksarka', 'saint anthony', 'marzuq', 'isangel', 'nuuk', 'santiago del estero', 'london', 'nehe', 'camacha', 'tahe', 'qeshm', 'grand-santi', 'oriximina', 'fotolivos', 'maxixe', 'ngaoundere', 'kangaatsiaq', 'zheleznodorozhnyy', 'bosaso', 'korvekula', 'akyab', 'zarate', 'acari', 'kloulklubed', 'balfour', 'matay', 'kroya', 'kamina', 'mgachi', 'karabash', 'fort madison', 'jinchang', 'muroto', 'emerald', 'hirara', 'kula', 'kasongo-lunda']\n"
     ]
    }
   ],
   "source": [
    "# List for holding lat_lngs and cities\n",
    "lat_lngs = []\n",
    "cities = []\n",
    "\n",
    "# Create a set of random lat and lng combinations\n",
    "lats = np.random.uniform(low=-90.000, high=90.000, size=1500)\n",
    "lngs = np.random.uniform(low=-180.000, high=180.000, size=1500)\n",
    "lat_lngs = zip(lats, lngs)\n",
    "\n",
    "# Identify nearest city for each lat, lng combination\n",
    "for lat_lng in lat_lngs:\n",
    "    city = citipy.nearest_city(lat_lng[0], lat_lng[1]).city_name\n",
    "    \n",
    "    # If the city is unique, then add it to a our cities list\n",
    "    if city not in cities:\n",
    "        cities.append(city)\n",
    "\n",
    "# Print the city count to confirm sufficient count\n",
    "print(f'There are {len(cities)} cities in this list.')\n",
    "print (cities)"
   ]
  },
  {
   "cell_type": "markdown",
   "metadata": {},
   "source": [
    "### Perform API Calls\n",
    "* Perform a weather check on each city using a series of successive API calls.\n",
    "* Include a print log of each city as it'sbeing processed (with the city number and city name).\n"
   ]
  },
  {
   "cell_type": "code",
   "execution_count": null,
   "metadata": {},
   "outputs": [
    {
     "name": "stdout",
     "output_type": "stream",
     "text": [
      "Pulling kandrian for record 0 of set 1 from API\n",
      "Pulling rikitea for record 1 of set 1 from API\n",
      "Pulling french harbor for record 2 of set 1 from API\n",
      "Pulling albany for record 3 of set 1 from API\n",
      "Pulling barentsburg for record 4 of set 1 from API\n",
      "barentsburg is not found in api call. Skipping.....\n",
      "Pulling ushuaia for record 4 of set 1 from API\n",
      "Pulling japura for record 5 of set 1 from API\n",
      "Pulling mpika for record 6 of set 1 from API\n",
      "Pulling santiago de cao for record 7 of set 1 from API\n",
      "Pulling port blair for record 8 of set 1 from API\n",
      "Pulling havre de grace for record 9 of set 1 from API\n",
      "Pulling ponta do sol for record 10 of set 1 from API\n",
      "Pulling carnarvon for record 11 of set 1 from API\n",
      "Pulling victoria for record 12 of set 1 from API\n",
      "Pulling saint-philippe for record 13 of set 1 from API\n",
      "Pulling bilibino for record 14 of set 1 from API\n",
      "Pulling quang ngai for record 15 of set 1 from API\n",
      "Pulling georgetown for record 16 of set 1 from API\n",
      "Pulling alta floresta for record 17 of set 1 from API\n",
      "Pulling samarai for record 18 of set 1 from API\n",
      "Pulling korla for record 19 of set 1 from API\n",
      "korla is not found in api call. Skipping.....\n",
      "Pulling hoi an for record 19 of set 1 from API\n",
      "Pulling mount isa for record 20 of set 1 from API\n",
      "Pulling soanierana ivongo for record 21 of set 1 from API\n",
      "Pulling esperance for record 22 of set 1 from API\n",
      "Pulling cape town for record 23 of set 1 from API\n",
      "Pulling yirol for record 24 of set 1 from API\n",
      "yirol is not found in api call. Skipping.....\n",
      "Pulling hermanus for record 24 of set 1 from API\n",
      "Pulling thompson for record 25 of set 1 from API\n",
      "Pulling port lincoln for record 26 of set 1 from API\n",
      "Pulling husavik for record 27 of set 1 from API\n",
      "Pulling bethel for record 28 of set 1 from API\n",
      "Pulling vila velha for record 29 of set 1 from API\n",
      "Pulling mogok for record 30 of set 1 from API\n",
      "Pulling punta arenas for record 31 of set 1 from API\n",
      "Pulling taolanaro for record 32 of set 1 from API\n",
      "taolanaro is not found in api call. Skipping.....\n",
      "Pulling tiarei for record 32 of set 1 from API\n",
      "Pulling saskylakh for record 33 of set 1 from API\n",
      "Pulling avarua for record 34 of set 1 from API\n",
      "Pulling mahebourg for record 35 of set 1 from API\n",
      "Pulling tecoanapa for record 36 of set 1 from API\n",
      "Pulling lukovetskiy for record 37 of set 1 from API\n",
      "Pulling vaini for record 38 of set 1 from API\n",
      "Pulling pevek for record 39 of set 1 from API\n",
      "Pulling jamestown for record 40 of set 1 from API\n",
      "Pulling morgan city for record 41 of set 1 from API\n",
      "Pulling kieta for record 42 of set 1 from API\n",
      "Pulling sibolga for record 43 of set 1 from API\n",
      "Pulling poum for record 44 of set 1 from API\n",
      "Pulling catuday for record 45 of set 1 from API\n",
      "Pulling mbarara for record 46 of set 1 from API\n",
      "Pulling aykhal for record 47 of set 1 from API\n",
      "Pulling bambous virieux for record 48 of set 1 from API\n",
      "Pulling hilo for record 49 of set 1 from API\n",
      "Pulling bluff for record 50 of set 1 from API\n",
      "Pulling sentyabrskiy for record 51 of set 1 from API\n",
      "sentyabrskiy is not found in api call. Skipping.....\n",
      "Pulling mataura for record 51 of set 1 from API\n",
      "Pulling severo-kurilsk for record 52 of set 1 from API\n",
      "Pulling tiksi for record 53 of set 1 from API\n",
      "Pulling cabo san lucas for record 54 of set 1 from API\n",
      "Pulling butaritari for record 55 of set 1 from API\n",
      "Pulling chuy for record 56 of set 1 from API\n",
      "Pulling mar del plata for record 57 of set 1 from API\n",
      "Pulling palabuhanratu for record 58 of set 1 from API\n",
      "palabuhanratu is not found in api call. Skipping.....\n",
      "Pulling kapaa for record 58 of set 1 from API\n",
      "Pulling maarianhamina for record 59 of set 1 from API\n",
      "maarianhamina is not found in api call. Skipping.....\n",
      "Pulling narsaq for record 59 of set 1 from API\n",
      "Resting API for 60 seconds...\n"
     ]
    }
   ],
   "source": [
    "# Declare variables for capturing data from API\n",
    "weather_check = []\n",
    "temp_name_lat = []\n",
    "city_names = []\n",
    "city_lats = []\n",
    "city_temps = []\n",
    "city_humidity = []\n",
    "city_clouds = []\n",
    "city_dates = []\n",
    "city_wind_speed = []\n",
    "set_count = 1\n",
    "city_count = 0\n",
    "record_count = 0\n",
    "\n",
    "# Loop through API data and capture variable for lists. \n",
    "for city in cities:\n",
    "    # Try and Except test for in city name does not register with API. \n",
    "    try:\n",
    "        \n",
    "        print(f\"Pulling {city} for record {record_count} of set {set_count} from API\")\n",
    "        # Get request for API Data and add to list.\n",
    "        get_weather_city = requests.get(query_url + city).json()\n",
    "        weather_check.append(get_weather_city)\n",
    "        # City Name column lists.\n",
    "        city_name = weather_check[city_count]['name']\n",
    "        city_names.append(city_name)\n",
    "        # City Latitude column lists.\n",
    "        city_lat = weather_check[city_count]['coord']['lat']\n",
    "        city_lats.append(city_lat)\n",
    "        # City Temperature column lists.\n",
    "        city_temp = weather_check[city_count]['main']['temp_max']\n",
    "        city_temps.append(city_temp)\n",
    "        # City Humidity column lists.\n",
    "        city_humid = weather_check[city_count]['main']['humidity']\n",
    "        city_humidity.append(city_humid)\n",
    "        # City Cloudiness column lists.\n",
    "        city_cloud = weather_check[city_count]['clouds']['all']\n",
    "        city_clouds.append(city_cloud)\n",
    "        # City Wind column lists.\n",
    "        city_wind = weather_check[city_count]['wind']['speed']\n",
    "        city_wind_speed.append(city_wind)\n",
    "        # Date column lists.\n",
    "        city_date = weather_check[city_count]['dt']\n",
    "        city_dates.append(city_date)\n",
    "        # Concatinate counters.\n",
    "        city_count = city_count + 1\n",
    "        record_count = record_count + 1\n",
    "    \n",
    "    except KeyError:\n",
    "    \n",
    "        print(f\"{city} is not found in api call. Skipping.....\")\n",
    "        city_count = city_count + 1\n",
    "    # Rest statement for API runs every 60 cities pulled.     \n",
    "    if record_count % 60 == 0:\n",
    "        print(\"Resting API for 60 seconds...\")\n",
    "        time.sleep(60)\n",
    "        set_count = set_count + 1"
   ]
  },
  {
   "cell_type": "markdown",
   "metadata": {},
   "source": [
    "### Convert Raw Data to DataFrame\n",
    "* Export the city data into a .csv.\n",
    "* Display the DataFrame"
   ]
  },
  {
   "cell_type": "code",
   "execution_count": null,
   "metadata": {},
   "outputs": [],
   "source": [
    "# Build data frame and city data column variables from loop. \n",
    "city_data_df = pd.DataFrame({'Name': city_names,\n",
    "                           'Date': city_dates,\n",
    "                           'Max Temperature': city_temps,\n",
    "                           'Latitude':city_lats,\n",
    "                           'Humidity %': city_humidity,\n",
    "                           'Cloudiness %': city_clouds,\n",
    "                           'Wind Speed': city_wind_speed,})\n",
    "\n",
    "# Write data frame to csv file. \n",
    "city_data_df.to_csv('output_data/DataFrame_Results.csv')\n",
    "# Display data frame.\n",
    "city_data_df.head()"
   ]
  },
  {
   "cell_type": "code",
   "execution_count": null,
   "metadata": {},
   "outputs": [],
   "source": [
    "# Capture and convert date from unix time stamp to normal date. \n",
    "timestamp = datetime.datetime.fromtimestamp(city_dates[0])\n",
    "actual_date = timestamp.strftime('%m/%d/%Y')"
   ]
  },
  {
   "cell_type": "markdown",
   "metadata": {},
   "source": [
    "### Plotting the Data\n",
    "* Use proper labeling of the plots using plot titles (including date of analysis) and axes labels.\n",
    "* Save the plotted figures as .pngs."
   ]
  },
  {
   "cell_type": "markdown",
   "metadata": {},
   "source": [
    "#### Latitude vs. Temperature Plot"
   ]
  },
  {
   "cell_type": "code",
   "execution_count": null,
   "metadata": {},
   "outputs": [],
   "source": [
    "# Store column values into list variables. \n",
    "max_temp_list = city_data_df['Max Temperature']\n",
    "lat_list = city_data_df['Latitude']\n",
    "\n",
    "# Latitue vs Temperature Plot. \n",
    "plt.scatter(lat_list, max_temp_list, marker=\"o\", edgecolors=\"black\", alpha=0.75)\n",
    "plt.grid()\n",
    "plt.title(f'City Latitude vs. Max Temperature {actual_date}')\n",
    "plt.ylabel('Max Temperature')\n",
    "plt.xlabel('Latitude')"
   ]
  },
  {
   "cell_type": "markdown",
   "metadata": {},
   "source": [
    "#### Latitude vs. Humidity Plot"
   ]
  },
  {
   "cell_type": "code",
   "execution_count": null,
   "metadata": {},
   "outputs": [],
   "source": [
    "# Store Humidity column values into list. \n",
    "humidity_list = city_data_df['Humidity %']\n",
    "\n",
    "# Latitude vs. Humidity Plot. \n",
    "plt.scatter(lat_list, humidity_list, marker=\"o\", edgecolors=\"black\", alpha=0.75)\n",
    "plt.grid()\n",
    "plt.title(f'City Latitude vs. Humidity (%) {actual_date}')\n",
    "plt.ylabel('Humidity(%)')\n",
    "plt.xlabel('Latitude')"
   ]
  },
  {
   "cell_type": "markdown",
   "metadata": {},
   "source": [
    "#### Latitude vs. Cloudiness Plot"
   ]
  },
  {
   "cell_type": "code",
   "execution_count": null,
   "metadata": {},
   "outputs": [],
   "source": [
    "# Store Cloudiness values into list variable.\n",
    "cloud_list = city_data_df['Cloudiness %']\n",
    "\n",
    "# Latitude vs. Cloudiness Plot. \n",
    "plt.scatter(lat_list, cloud_list, marker=\"o\", edgecolors=\"black\", alpha=0.75)\n",
    "plt.grid()\n",
    "plt.title(f'City Latitude vs. Cloudiness (%) {actual_date}')\n",
    "plt.ylabel('Cloudiness(%)')\n",
    "plt.xlabel('Latitude')"
   ]
  },
  {
   "cell_type": "markdown",
   "metadata": {},
   "source": [
    "#### Latitude vs. Wind Speed Plot"
   ]
  },
  {
   "cell_type": "code",
   "execution_count": null,
   "metadata": {},
   "outputs": [],
   "source": [
    "# Store Wind Speed column values in list variable. \n",
    "wind_list = city_data_df['Wind Speed']\n",
    "\n",
    "# Latitude vs. Wind Speed Plot. \n",
    "plt.scatter(lat_list, wind_list, marker=\"o\", edgecolors=\"black\", alpha=0.75)\n",
    "plt.grid()\n",
    "plt.title(f'City Latitude vs. Wind Speed {actual_date}')\n",
    "plt.ylabel('Wind Speed')\n",
    "plt.xlabel('Latitude')"
   ]
  }
 ],
 "metadata": {
  "anaconda-cloud": {},
  "kernelspec": {
   "display_name": "Python 3",
   "language": "python",
   "name": "python3"
  },
  "language_info": {
   "codemirror_mode": {
    "name": "ipython",
    "version": 3
   },
   "file_extension": ".py",
   "mimetype": "text/x-python",
   "name": "python",
   "nbconvert_exporter": "python",
   "pygments_lexer": "ipython3",
   "version": "3.6.5"
  }
 },
 "nbformat": 4,
 "nbformat_minor": 2
}
